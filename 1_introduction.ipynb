{
 "cells": [
  {
   "cell_type": "markdown",
   "metadata": {},
   "source": [
    "# ChessView: AI for Chess FEN Prediction\n",
    "\n",
    "## Table of Contents\n",
    "1. **Introduction**: discuss the overall goal and learn about FEN (*this notebook*)\n",
    "2. **Computer Vision**: recognize chessboards in images and split them into squares. (*comp_vision.ipynb*)\n",
    "3. **Training a Model**: prepare a dataset, build a CNN, and train it. (*train.ipynb*)\n",
    "4. **Make Predictions**: test the model on some examples. (*predict.ipynb*)"
   ]
  },
  {
   "cell_type": "markdown",
   "metadata": {},
   "source": [
    "## Project Overview\n",
    "\n",
    "The goal of this project is to convert a static image of a 2D chessboard into a playable position on [Lichess](https://lichess.org) (a popular online chess site).\n",
    "\n",
    "An input might be an image like this:\n",
    "\n",
    "<img src=\"images/example_board.png\" title=\"Sicilian: Najdorf Variation\" width=\"300\">\n",
    "\n",
    "Ultimately, we want to convert it into the following link:\n",
    "\n",
    "https://lichess.org/editor/rnbqkb1r/1p2pppp/p2p1n2/8/3NP3/2N5/PPP2PPP/R1BQKB1R_w_KQkq_-_0_1\n",
    "\n",
    "From here, you can immediately analyze and play the position. One use case would be if you were watching a chess video and came across an interesting position that you wanted to study. This app would save the hassle of manually entering the position. Eventually, my aim is to make this into a Chrome extension to allow for quick use."
   ]
  },
  {
   "cell_type": "markdown",
   "metadata": {},
   "source": [
    "## Forsyth-Edwards Notation (FEN)\n",
    "For this project, it will be essential to have a text representation for chess positions. [FEN](https://en.wikipedia.org/wiki/Forsyth%E2%80%93Edwards_Notation) is just what we need.\n",
    "\n",
    "Pieces are labeled as follows: **P**awn, k**N**ight, **B**ishop, **R**ook, **Q**ueen, **K**ing (with uppercase for white and lowercase for black). The labels are concatenated from the top-left to bottom-right of the board. Consecutive empty squares are represented by a number and line breaks are denoted by /. Some additional game information is encoded after this, but we only care about the position of the pieces.\n",
    "\n",
    "As an example, the FEN for the position above is \"rnbqkb1r/1p2pppp/p2p1n2/8/3NP3/2N5/PPP2PPP/R1BQKB1R\". We see that the top-left square is a black rook (r) and that the second row down starts with a single empty square (1). The fourth row down is all empty (8). The bottom-right square is a white rook (R).\n",
    "\n",
    "Lastly, though it is not part of FEN, we will denote an empty square by an underscore $\\_$."
   ]
  }
 ],
 "metadata": {
  "kernelspec": {
   "display_name": "Python 3",
   "language": "python",
   "name": "python3"
  },
  "language_info": {
   "codemirror_mode": {
    "name": "ipython",
    "version": 3
   },
   "file_extension": ".py",
   "mimetype": "text/x-python",
   "name": "python",
   "nbconvert_exporter": "python",
   "pygments_lexer": "ipython3",
   "version": "3.6.9"
  }
 },
 "nbformat": 4,
 "nbformat_minor": 4
}
